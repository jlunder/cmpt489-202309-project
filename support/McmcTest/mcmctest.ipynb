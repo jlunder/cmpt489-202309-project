{
 "cells": [
  {
   "cell_type": "code",
   "execution_count": 326,
   "metadata": {},
   "outputs": [
    {
     "name": "stdout",
     "output_type": "stream",
     "text": [
      "found acceptable result 100 (0.0001), after 63 iterations\n",
      "found acceptable result 'GOAL' (0.0001), after 5223 iterations\n"
     ]
    }
   ],
   "source": [
    "import math\n",
    "from random import Random\n",
    "\n",
    "r = Random()\n",
    "\n",
    "# generate, accept must be symmetric: P(state s0 -> s1) = P(state s1 -> s0)!\n",
    "def mcmc(x0, target_cost, cost, generate, accept, max_it = 10000):\n",
    "    x_cur = x0\n",
    "    c_cur = cost(x_cur)\n",
    "    x_best = x_cur\n",
    "    c_best = c_cur\n",
    "    for i in range(max_it):\n",
    "        if c_best < target_cost:\n",
    "            break\n",
    "        x_cand = generate(x_cur)\n",
    "        c_cand = cost(x_cand)\n",
    "        if c_cand < c_best:\n",
    "            x_best = x_cand\n",
    "            c_best = c_cand\n",
    "        if r.random() < accept(c_cur, c_cand):\n",
    "            x_cur = x_cand\n",
    "            c_cur = c_cand\n",
    "    else:\n",
    "        print('not found :( best effort %r (%g), after %d iterations' % (x_best, c_best, i,))\n",
    "        return\n",
    "    print('found acceptable result %r (%g), after %d iterations' % (x_best, c_best, i,))\n",
    "\n",
    "def accept_mh1(cost_cur, cost_new):\n",
    "    beta = 1\n",
    "    return min(1, math.exp(-beta * cost_new / cost_cur))\n",
    "\n",
    "def gen_num100(x: int):\n",
    "    return x + r.randint(-5, 5) * r.randint(1, 5)\n",
    "\n",
    "def cost_num100(x: int):\n",
    "    return abs(x - 100) + 0.0001\n",
    "\n",
    "mcmc(0, 0.5, cost_num100, gen_num100, accept_mh1)\n",
    "\n",
    "def gen_str(x: str):\n",
    "    i = r.randrange(len(x))\n",
    "    return x[:i] + chr(r.randrange(26) + ord('A')) + x[i + 1:]\n",
    "\n",
    "def cost_str(x: str):\n",
    "    goal_str = 'GOAL'\n",
    "    tc = 0\n",
    "    for i in range(len(x)):\n",
    "        if x[i] == goal_str[i]:\n",
    "            continue\n",
    "        elif x[i] in goal_str:\n",
    "            tc += 1\n",
    "        else:\n",
    "            tc += 4\n",
    "    return tc / len(goal_str) + 0.0001\n",
    "\n",
    "mcmc('FROM', 0.01, cost_str, gen_str, accept_mh1, max_it=100000)\n"
   ]
  }
 ],
 "metadata": {
  "kernelspec": {
   "display_name": ".venv",
   "language": "python",
   "name": "python3"
  },
  "language_info": {
   "codemirror_mode": {
    "name": "ipython",
    "version": 3
   },
   "file_extension": ".py",
   "mimetype": "text/x-python",
   "name": "python",
   "nbconvert_exporter": "python",
   "pygments_lexer": "ipython3",
   "version": "3.10.12"
  }
 },
 "nbformat": 4,
 "nbformat_minor": 2
}
