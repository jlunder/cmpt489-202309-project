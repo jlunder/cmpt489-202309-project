{
 "cells": [
  {
   "cell_type": "code",
   "execution_count": 6,
   "metadata": {},
   "outputs": [
    {
     "name": "stdout",
     "output_type": "stream",
     "text": [
      "0x0000, 0x0001, 0x0008, 0x0009, 0x0040, 0x0041, 0x0048, 0x0049, \n",
      "0x0200, 0x0201, 0x0208, 0x0209, 0x0240, 0x0241, 0x0248, 0x0249, \n",
      "0x1000, 0x1001, 0x1008, 0x1009, 0x1040, 0x1041, 0x1048, 0x1049, \n",
      "0x1200, 0x1201, 0x1208, 0x1209, 0x1240, 0x1241, 0x1248, 0x1249, \n",
      "0x00, 0x01, 0x00, 0x01, 0x00, 0x01, 0x00, 0x01, \n",
      "0x02, 0x03, 0x02, 0x03, 0x02, 0x03, 0x02, 0x03, \n",
      "0x00, 0x01, 0x00, 0x01, 0x00, 0x01, 0x00, 0x01, \n",
      "0x02, 0x03, 0x02, 0x03, 0x02, 0x03, 0x02, 0x03, \n",
      "0x00, 0x01, 0x00, 0x01, 0x00, 0x01, 0x00, 0x01, \n",
      "0x02, 0x03, 0x02, 0x03, 0x02, 0x03, 0x02, 0x03, \n",
      "0x00, 0x01, 0x00, 0x01, 0x00, 0x01, 0x00, 0x01, \n",
      "0x02, 0x03, 0x02, 0x03, 0x02, 0x03, 0x02, 0x03, \n"
     ]
    }
   ],
   "source": [
    "def expand(i):\n",
    "    k = 0\n",
    "    for j in range(10):\n",
    "        k += ((i >> j) & 1) << (j * 3)\n",
    "    return k\n",
    "\n",
    "def contract(i):\n",
    "    k = 0\n",
    "    for j in range(10):\n",
    "        k += ((i >> (j * 3)) & 1) << j\n",
    "    return k\n",
    "\n",
    "for i in range(32):\n",
    "    print('0x%04X, ' % (expand(i),), end='')\n",
    "    if i % 8 == 7:\n",
    "        print()\n",
    "\n",
    "for i in range(64):\n",
    "    print('0x%02X, ' % (contract(i),), end='')\n",
    "    if i % 8 == 7:\n",
    "        print()\n"
   ]
  }
 ],
 "metadata": {
  "kernelspec": {
   "display_name": ".venv",
   "language": "python",
   "name": "python3"
  },
  "language_info": {
   "codemirror_mode": {
    "name": "ipython",
    "version": 3
   },
   "file_extension": ".py",
   "mimetype": "text/x-python",
   "name": "python",
   "nbconvert_exporter": "python",
   "pygments_lexer": "ipython3",
   "version": "3.10.12"
  }
 },
 "nbformat": 4,
 "nbformat_minor": 2
}
