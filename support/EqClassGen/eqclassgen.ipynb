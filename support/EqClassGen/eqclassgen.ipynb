{
 "cells": [
  {
   "cell_type": "code",
   "execution_count": 43,
   "metadata": {},
   "outputs": [],
   "source": [
    "import sympy as sp\n",
    "import functools, random, re\n",
    "\n",
    "import synthast as ast"
   ]
  },
  {
   "cell_type": "code",
   "execution_count": 44,
   "metadata": {},
   "outputs": [
    {
     "name": "stdout",
     "output_type": "stream",
     "text": [
      "parsing \"# Multiply(Ite(Eq(x, 1), Multiply(x, x), Multiply(y, x)), Add(Add(z, z), 2))\":\n",
      "  expr: Multiply(Ite(Eq(x, 1), Multiply(x, x), Multiply(y, x)), Add(Add(z, z), 2))\n"
     ]
    }
   ],
   "source": [
    "test_fn = '../../test-data/phase2/0308.txt'\n",
    "with open(test_fn) as f:\n",
    "    print('parsing \"%s\":' % (f.readline().strip(),))\n",
    "expr = ast.parse_examples(test_fn)\n",
    "print('  expr: %s' % (expr,))"
   ]
  },
  {
   "cell_type": "code",
   "execution_count": 45,
   "metadata": {},
   "outputs": [
    {
     "data": {
      "text/latex": [
       "$\\displaystyle \\left(2 z + 2\\right) \\left(\\begin{cases} x^{2} & \\text{for}\\: x = 1 \\\\x y & \\text{otherwise} \\end{cases}\\right)$"
      ],
      "text/plain": [
       "(2*z + 2)*Piecewise((x**2, Eq(x, 1)), (x*y, True))"
      ]
     },
     "execution_count": 45,
     "metadata": {},
     "output_type": "execute_result"
    }
   ],
   "source": [
    "expr.to_sym()"
   ]
  },
  {
   "cell_type": "code",
   "execution_count": 46,
   "metadata": {},
   "outputs": [
    {
     "name": "stdout",
     "output_type": "stream",
     "text": [
      "450222\n",
      "1\n",
      "2\n",
      "3\n",
      "x\n",
      "y\n",
      "...\n",
      "Ite(Eq(z, z), Multiply(z, z), Multiply(z, x))\n",
      "Ite(Eq(z, z), Multiply(z, z), Add(z, y))\n",
      "Ite(Eq(z, z), Multiply(z, z), Multiply(z, y))\n",
      "Ite(Eq(z, z), Multiply(z, z), Add(z, z))\n",
      "Ite(Eq(z, z), Multiply(z, z), Multiply(z, z))\n"
     ]
    }
   ],
   "source": [
    "expr_asts: [ast.AstNode] = []\n",
    "bool_asts: [ast.AstNode] = []\n",
    "\n",
    "def gen_all():\n",
    "    global expr_asts, bool_asts\n",
    "    new_expr_asts = [ast.c1, ast.c2, ast.c3, ast.x, ast.y, ast.z]\n",
    "    new_bool_asts = []\n",
    "    for s in expr_asts:\n",
    "        for t in expr_asts:\n",
    "            new_expr_asts.append(ast.Add(s, t))\n",
    "            new_expr_asts.append(ast.Multiply(s, t))\n",
    "            new_bool_asts.append(ast.Lt(s, t))\n",
    "            new_bool_asts.append(ast.Eq(s, t))\n",
    "    for p in bool_asts:\n",
    "        new_bool_asts.append(ast.Not(p))\n",
    "        for q in bool_asts:\n",
    "            new_bool_asts.append(ast.And(p, q))\n",
    "            new_bool_asts.append(ast.Or(p, q))\n",
    "        for s in expr_asts:\n",
    "            for t in expr_asts:\n",
    "                new_expr_asts.append(ast.Ite(p, s, t))\n",
    "    expr_asts = new_expr_asts\n",
    "    bool_asts = new_bool_asts\n",
    "\n",
    "gen_all()\n",
    "gen_all()\n",
    "gen_all()\n",
    "\n",
    "print(len(expr_asts))\n",
    "for s in expr_asts[:5]:\n",
    "    print(s)\n",
    "print('...')\n",
    "for s in expr_asts[-5:]:\n",
    "    print(s)\n"
   ]
  },
  {
   "cell_type": "code",
   "execution_count": 57,
   "metadata": {},
   "outputs": [
    {
     "name": "stdout",
     "output_type": "stream",
     "text": [
      "((-61, -13, 79), (-43, 67, -11), (67, 47, 43), (5, 83, 83), (1, 11, 59), (13, 1, 71), (19, 73, 1), (2, 23, 97), (29, 2, 89), (31, 79, 2), (3, 7, 83), (17, 3, 67), (23, 61, 3)) => 25840\n"
     ]
    }
   ],
   "source": [
    "nums = [0, 1, 2, 3, 5, 7, 11, 13, 17, 19, 23, 29, 31, 37, 41, 43, 47, 53, 59,\n",
    "        61, 67, 71, 73, 79, 83, 89, 97]\n",
    "nums += [-n for n in nums[1:]]\n",
    "r = random.Random(53)\n",
    "\n",
    "if False:\n",
    "\n",
    "    best_d = ()\n",
    "    best_d_vals = {}\n",
    "\n",
    "    for i in range(10):\n",
    "        d = (r.choice(nums), r.choice(nums), r.choice(nums))\n",
    "        vals = {}\n",
    "        e = ast.Env(*d)\n",
    "        for s in expr_asts:\n",
    "            v = (s.eval(e),)\n",
    "            if v not in vals:\n",
    "                vals[v] = []\n",
    "            vals[v].append(s)\n",
    "        if len(vals) > len(best_d_vals):\n",
    "            best_d = d\n",
    "            best_d_vals = vals\n",
    "\n",
    "    print(\"%r: %d\" % (best_d, len(best_d_vals)))\n",
    "\n",
    "    for i in range(4):\n",
    "        next_best_d = ()\n",
    "        next_best_d_vals = {}\n",
    "        for j in range(10):\n",
    "            d = best_d + ((r.choice(nums), r.choice(nums), r.choice(nums)),)\n",
    "            vals = {}\n",
    "            e = ast.Env(*(d[-1]))\n",
    "            for v, ss in best_d_vals.items():\n",
    "                for s in ss:\n",
    "                    cv = v + (s.eval(e),)\n",
    "                    if cv not in vals:\n",
    "                        vals[cv] = []\n",
    "                    vals[cv].append(s)\n",
    "            if len(vals) > len(next_best_d_vals):\n",
    "                next_best_d = d\n",
    "                next_best_d_vals = vals\n",
    "        best_d = next_best_d\n",
    "        best_d_vals = next_best_d_vals\n",
    "        print('%d, %d: %r => %d' % (i, j, best_d, len(best_d_vals)))\n",
    "\n",
    "else:\n",
    "    best_d = ((-61, -13, 79), (-43, 67, -11), (67, 47, 43), (5, 83, 83),\n",
    "              (1, 11, 59), (13, 1, 71), (19, 73, 1),\n",
    "              (2, 23, 97), (29, 2, 89), (31, 79, 2),\n",
    "              (3, 7, 83), (17, 3, 67), (23, 61, 3),\n",
    "              )\n",
    "    best_d_vals = {}\n",
    "    d_envs = [ast.Env(*d) for d in best_d]\n",
    "    for s in expr_asts:\n",
    "        cv = ()\n",
    "        for e in d_envs:\n",
    "            cv += (s.eval(e),)\n",
    "        if cv not in best_d_vals:\n",
    "            best_d_vals[cv] = []\n",
    "        best_d_vals[cv].append(s)\n",
    "    print('%r => %d' % (best_d, len(best_d_vals)))\n",
    "\n",
    "d_equiv = {}\n",
    "for d, ss in best_d_vals.items():\n",
    "    for s in ss:\n",
    "        assert str(s) not in d_equiv\n",
    "        d_equiv[str(s)] = (d, s)\n"
   ]
  },
  {
   "cell_type": "code",
   "execution_count": 58,
   "metadata": {},
   "outputs": [
    {
     "name": "stdout",
     "output_type": "stream",
     "text": [
      "...10%\n",
      "...20%\n",
      "...30%\n",
      "...40%\n",
      "...50%\n",
      "...60%\n",
      "...70%\n",
      "...80%\n",
      "...90%\n",
      "...100%\n"
     ]
    }
   ],
   "source": [
    "for i in range(len(expr_asts)):\n",
    "    s = expr_asts[i]\n",
    "    canon_ast = s.canonical()\n",
    "    if canon_ast is not s:\n",
    "        if not sp.ask(sp.Q.eq(s.to_sym(), s.canonical().to_sym())):\n",
    "            print('Not equivalent: %s <-> %s' % (s, s.canonical()))\n",
    "    pct = i * 100 // len(expr_asts)\n",
    "    next_pct = (i + 1) * 100 // len(expr_asts)\n",
    "    if pct // 10 < next_pct // 10:\n",
    "        print('...%d%%' % (next_pct,))"
   ]
  },
  {
   "cell_type": "code",
   "execution_count": 59,
   "metadata": {},
   "outputs": [
    {
     "name": "stdout",
     "output_type": "stream",
     "text": [
      "...10%\n",
      "...20%\n",
      "...30%\n",
      "...40%\n"
     ]
    }
   ],
   "source": [
    "equiv_classes = []\n",
    "equiv_lookup = {}\n",
    "\n",
    "def equiv(s, t):\n",
    "    global equiv_lookup\n",
    "    # If they are literally the same object they are equivalent\n",
    "    if s is t:\n",
    "        return True\n",
    "    s_canon = s.canonical()\n",
    "    t_canon = t.canonical()\n",
    "    s_str = str(s_canon)\n",
    "    t_str = str(t_canon)\n",
    "    # If their canonical forms are equal they are equivalent\n",
    "    if s_str == t_str:\n",
    "        return True\n",
    "    # If they are in the same equivalence class they are equivalent\n",
    "    if s_str in equiv_lookup and t_str in equiv_lookup:\n",
    "        return equiv_lookup[s_str] == equiv_lookup[t_str]\n",
    "    # If they have different discriminators they are not equivalent\n",
    "    if s_str in d_equiv and t_str in d_equiv:\n",
    "        s_d = d_equiv[s_str][0]\n",
    "        t_d = d_equiv[t_str][0]\n",
    "        if s_d != t_d:\n",
    "            return False\n",
    "    # If they are the same operation, and all their operands are equivalent,\n",
    "    # they are equivalent\n",
    "    if s_canon.name == t_canon.name:\n",
    "        assert len(s.p) == len(t.p)\n",
    "        for s_p, t_p in zip(s_canon.p, t_canon.p):\n",
    "            if not equiv(s_p, t_p):\n",
    "                break\n",
    "        else:\n",
    "            return True\n",
    "    # If their symbolic forms can be proven equal, they are equivalent\n",
    "    s_sym = s_canon.to_sym()\n",
    "    t_sym = t_canon.to_sym()\n",
    "    if sp.ask(sp.Q.eq(s_sym, t_sym)):\n",
    "        return True\n",
    "    # Otherwise, we must assume they are not equivalent\n",
    "    return False\n",
    "\n",
    "known_equivs = {}\n",
    "\n",
    "with open('output/eqclasses.txt', 'r') as f:\n",
    "    for l in f.readlines():\n",
    "        m = re.match('^(.*) -> new$', l)\n",
    "        if m:\n",
    "            known_equivs[m.group(1)] = None\n",
    "        else:\n",
    "            m = re.match('^(.*) == (.*)$', l)\n",
    "            if m:\n",
    "                known_equivs[m.group(1)] = m.group(2)\n",
    "\n",
    "with open('output/eqclasses.txt', 'w') as f:\n",
    "    i = 0\n",
    "    for s in expr_asts:\n",
    "        sym = s.to_sym()\n",
    "        res = ''\n",
    "        s_str = str(s)\n",
    "        s_d = d_equiv[s_str][0]\n",
    "        equiv_s = None\n",
    "        if s_str in known_equivs:\n",
    "            s_ke = known_equivs[s_str]\n",
    "            if s_ke in equiv_lookup:\n",
    "                class_sym, asts = equiv_classes[equiv_lookup[s_ke]]\n",
    "                if equiv(s, asts[0]):\n",
    "                    equiv_s = asts[0]\n",
    "                    asts.append(s)\n",
    "                    equiv_lookup[s_str] = equiv_lookup[s_ke]\n",
    "                else:\n",
    "                    print('bad equivalence: %s != %s!' % (s, equiv_s))\n",
    "        if equiv_s == None:\n",
    "            for t in best_d_vals[s_d]:\n",
    "                t_str = str(t)\n",
    "                if not t_str in equiv_lookup:\n",
    "                    continue\n",
    "                # print('len=%d, idx=%r' % (len(equiv_classes), equiv_lookup[t_str]))\n",
    "                class_sym, asts = equiv_classes[equiv_lookup[t_str]]\n",
    "                if equiv(s, asts[0]):\n",
    "                    equiv_s = asts[0]\n",
    "                    asts.append(s)\n",
    "                    equiv_lookup[s_str] = equiv_lookup[t_str]\n",
    "                    if s_str in known_equivs:\n",
    "                        # equiv_s was previously None, i.e. read as '-> new'\n",
    "                        print('bad inequivalence: %s == %s' % (s, equiv_s))\n",
    "                    break\n",
    "        if equiv_s != None:\n",
    "            res = '%s == %s' % (s, equiv_s)\n",
    "        else:\n",
    "            res = '%s -> new' % (s,)\n",
    "            equiv_lookup[s_str] = len(equiv_classes)\n",
    "            equiv_classes.append((sym, [s]))\n",
    "        f.write(res + '\\n')\n",
    "        f.flush()\n",
    "\n",
    "        pct = i * 100 // len(expr_asts)\n",
    "        next_pct = (i + 1) * 100 // len(expr_asts)\n",
    "        if pct // 10 < next_pct // 10:\n",
    "            print('...%d%%' % (next_pct,))\n",
    "        i += 1\n",
    "print('%d equivalence classes total.' % (len(equiv_classes),))"
   ]
  }
 ],
 "metadata": {
  "kernelspec": {
   "display_name": ".venv",
   "language": "python",
   "name": "python3"
  },
  "language_info": {
   "codemirror_mode": {
    "name": "ipython",
    "version": 3
   },
   "file_extension": ".py",
   "mimetype": "text/x-python",
   "name": "python",
   "nbconvert_exporter": "python",
   "pygments_lexer": "ipython3",
   "version": "3.10.12"
  }
 },
 "nbformat": 4,
 "nbformat_minor": 2
}
